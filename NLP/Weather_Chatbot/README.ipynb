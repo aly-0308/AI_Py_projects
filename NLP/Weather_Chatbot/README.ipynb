{
 "cells": [
  {
   "cell_type": "markdown",
   "id": "cec1129a-26ab-4112-bcf7-cf49a4351fa6",
   "metadata": {},
   "source": [
    "# 🤖 Weather Chatbot: A Rule-Based Conversational AI\n",
    "\n",
    "This project is a simple yet effective rule-based conversational AI designed to provide weather information. It's built entirely in Python and uses the `spaCy` library for basic Natural Language Understanding (NLU). The chatbot can understand requests for various weather conditions, identify city names, and handle conversations where information is missing.\n",
    "\n",
    "This project includes two complete implementations to showcase different programming paradigms:\n",
    "1.  **Functional Implementation** \n",
    "2.  **Object-Oriented/Class-Based Implementation** \n",
    "\n",
    "---\n",
    "\n",
    "## ✨ Key Features\n",
    "\n",
    "* **Rule-Based Intent Recognition**: Uses regular expressions and keyword matching to determine user intent (e.g., asking for temperature vs. wind speed).\n",
    "* **Named Entity Recognition (NER)**: Leverages spaCy to automatically identify and extract city names from user input.\n",
    "* **Dialog Management**: Can ask follow-up questions to clarify intent or get a location if it's missing from the initial query.\n",
    "* **Database Caching**: Integrates with a local SQLite database to cache results, reducing the need for repeated API calls.\n",
    "* **Switchable Data Modes**: Features a simple toggle to switch between using live API data and a built-in mock data source for development and testing.\n",
    "\n",
    "---\n",
    "\n",
    "## ⚙️ How It Works\n",
    "\n",
    "This chatbot operates on a classic, rule-based architecture. Unlike modern LLMs (Large Language Models) that generate responses based on probabilistic models, this bot follows a series of explicit steps and rules to function.\n",
    "\n",
    "\n",
    "\n",
    "The core logic flow is as follows:\n",
    "\n",
    "1.  **User Input**: The bot prompts the user for a query.\n",
    "2.  **Natural Language Understanding (NLU)**:\n",
    "    * The user's text is scanned for keywords (e.g., \"temperature\", \"wind\") to determine their **intent**.\n",
    "    * spaCy's NER model scans the text to extract **entities**, specifically locations (cities).\n",
    "3.  **Dialog Management**:\n",
    "    * The bot checks if it has both an intent (what the user wants) and an entity (for which city).\n",
    "    * If either is missing, it enters a loop and asks clarifying questions until it has all the necessary information.\n",
    "4.  **Data Fetching**:\n",
    "    * With all the information gathered, the bot first checks its local SQLite database to see if it has a recent, cached answer.\n",
    "    * If not, it proceeds to fetch new data (either from the mock source or the live API).\n",
    "5.  **Response Generation**:\n",
    "    * The final data is formatted into a user-friendly sentence based on pre-defined templates.\n",
    "\n",
    "---\n",
    "\n",
    "## 🔌 Mock vs. Live API Mode\n",
    "\n",
    "A key feature of this project is the ability to switch between a mock data source and a live weather API. This is controlled by a single boolean variable in the main execution block of each script.\n",
    "<br>\n",
    "\"USE_MOCK_DATA = True\"\n",
    "\n",
    "### Mock Mode (Default)\n",
    "* **Purpose**: Ideal for development, testing, and running the chatbot offline.\n",
    "* **Behavior**: The bot does **not** make any external network requests. It returns a hardcoded, consistent set of weather data. This guarantees predictable behavior for testing the conversation logic.\n",
    "\n",
    "### Live Mode\n",
    "* **Purpose**: To get real-time, accurate weather information.\n",
    "* **Behavior**: The bot uses the `geopy` library to convert a city name into geographic coordinates (latitude and longitude). It then makes an API call to the [Open-Meteo API](https://open-meteo.com/) to fetch the latest weather data. This requires an active internet connection."
   ]
  },
  {
   "cell_type": "code",
   "execution_count": null,
   "id": "7bbc1696-a523-43ce-b44c-e9ee0ba24710",
   "metadata": {},
   "outputs": [],
   "source": []
  }
 ],
 "metadata": {
  "kernelspec": {
   "display_name": "Python 3 (ipykernel)",
   "language": "python",
   "name": "python3"
  },
  "language_info": {
   "codemirror_mode": {
    "name": "ipython",
    "version": 3
   },
   "file_extension": ".py",
   "mimetype": "text/x-python",
   "name": "python",
   "nbconvert_exporter": "python",
   "pygments_lexer": "ipython3",
   "version": "3.11.7"
  }
 },
 "nbformat": 4,
 "nbformat_minor": 5
}
